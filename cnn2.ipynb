{
 "cells": [
  {
   "cell_type": "code",
   "execution_count": 322,
   "metadata": {},
   "outputs": [],
   "source": [
    "import pandas as pd\n",
    "import numpy as np\n",
    "\n",
    "from keras import layers\n",
    "from keras.models import Sequential\n",
    "from keras.preprocessing.text import Tokenizer, one_hot\n",
    "from keras.preprocessing.sequence import pad_sequences\n",
    "from keras.layers import Embedding, Conv1D, GlobalMaxPooling1D, Dense, Dropout, Flatten, MaxPooling1D, Input, Concatenate\n",
    "from keras.models import load_model\n",
    "\n",
    "import sklearn\n",
    "from sklearn.model_selection import train_test_split\n",
    "from sklearn.utils import class_weight\n",
    "from sklearn.metrics import classification_report, accuracy_score, confusion_matrix\n"
   ]
  },
  {
   "cell_type": "code",
   "execution_count": 323,
   "metadata": {},
   "outputs": [],
   "source": [
    "def construct_pred_matrix(pred):\n",
    "    arr = []\n",
    "    for i in pred:\n",
    "        if i[0] < 0.1:\n",
    "            arr.append(0)\n",
    "        else:\n",
    "            arr.append(1)\n",
    "    return np.array(arr)   "
   ]
  },
  {
   "cell_type": "code",
   "execution_count": 324,
   "metadata": {},
   "outputs": [],
   "source": [
    "use_map = True\n",
    "df = pd.read_csv('./data/spam.csv',delimiter=',')"
   ]
  },
  {
   "cell_type": "code",
   "execution_count": 325,
   "metadata": {},
   "outputs": [
    {
     "data": {
      "text/plain": [
       "4510    1\n",
       "1984    1\n",
       "5560    1\n",
       "4604    1\n",
       "143     1\n",
       "       ..\n",
       "2207    0\n",
       "3473    1\n",
       "3994    1\n",
       "3765    1\n",
       "4749    1\n",
       "Name: category, Length: 5572, dtype: int64"
      ]
     },
     "execution_count": 325,
     "metadata": {},
     "output_type": "execute_result"
    }
   ],
   "source": [
    "df = df.sample(frac=1)\n",
    "X = df['content']\n",
    "Y = df['category']\n",
    "map_class1 = {'spam': 0, 'ham':1}\n",
    "map_class2 = {'positive': 0, 'negative': 1}\n",
    "if use_map:\n",
    "    Y = Y.map(map_class1)\n",
    "Y"
   ]
  },
  {
   "cell_type": "code",
   "execution_count": 326,
   "metadata": {},
   "outputs": [
    {
     "name": "stderr",
     "output_type": "stream",
     "text": [
      "[nltk_data] Downloading package stopwords to /Users/chris/nltk_data...\n",
      "[nltk_data]   Package stopwords is already up-to-date!\n"
     ]
    }
   ],
   "source": [
    "import nltk\n",
    "import ssl\n",
    "\n",
    "try:\n",
    "    _create_unverified_https_context = ssl._create_unverified_context\n",
    "except AttributeError:\n",
    "    pass\n",
    "else:\n",
    "    ssl._create_default_https_context = _create_unverified_https_context\n",
    "nltk.download('stopwords')\n",
    "from nltk.corpus import stopwords\n",
    "STOPWORDS = set(stopwords.words('english'))"
   ]
  },
  {
   "cell_type": "code",
   "execution_count": 327,
   "metadata": {},
   "outputs": [],
   "source": [
    "X_train,X_test, y_train, y_test = train_test_split(X, Y, test_size=0.20)"
   ]
  },
  {
   "cell_type": "code",
   "execution_count": 328,
   "metadata": {},
   "outputs": [],
   "source": [
    "vocab_size = 5000 # make the top list of words (common words)\n",
    "embedding_dim = 64\n",
    "max_length = 200\n",
    "trunc_type = 'post'\n",
    "padding_type = 'post'\n",
    "oov_tok = '<OOV>' # OOV = Out of Vocabulary\n",
    "training_portion = .8\n",
    "units = 1024\n",
    "tokenizer = Tokenizer(num_words = vocab_size, oov_token=oov_tok)\n",
    "tokenizer.fit_on_texts(X_train)\n",
    "word_index = tokenizer.word_index"
   ]
  },
  {
   "cell_type": "code",
   "execution_count": 329,
   "metadata": {},
   "outputs": [
    {
     "data": {
      "text/plain": [
       "array([[ 571, 1445,  880, ...,    0,    0,    0],\n",
       "       [   2,  483,  605, ...,    0,    0,    0],\n",
       "       [  94,    3,  208, ...,    0,    0,    0],\n",
       "       ...,\n",
       "       [  26, 1363,  263, ...,    0,    0,    0],\n",
       "       [   2,  166,   81, ...,    0,    0,    0],\n",
       "       [ 896, 1543,    6, ...,    0,    0,    0]], dtype=int32)"
      ]
     },
     "execution_count": 329,
     "metadata": {},
     "output_type": "execute_result"
    }
   ],
   "source": [
    "train_sequences = tokenizer.texts_to_sequences(X_train)\n",
    "train_padded = pad_sequences(train_sequences, maxlen=max_length, padding=padding_type, truncating=trunc_type)\n",
    "train_padded"
   ]
  },
  {
   "cell_type": "code",
   "execution_count": 334,
   "metadata": {
    "pycharm": {
     "is_executing": true
    }
   },
   "outputs": [
    {
     "name": "stdout",
     "output_type": "stream",
     "text": [
      "Epoch 1/10\n",
      "WARNING:tensorflow:Model was constructed with shape (None, 189) for input KerasTensor(type_spec=TensorSpec(shape=(None, 189), dtype=tf.float32, name='embedding_27_input'), name='embedding_27_input', description=\"created by layer 'embedding_27_input'\"), but it was called on an input with incompatible shape (None, 200).\n",
      "WARNING:tensorflow:Model was constructed with shape (None, 189) for input KerasTensor(type_spec=TensorSpec(shape=(None, 189), dtype=tf.float32, name='embedding_27_input'), name='embedding_27_input', description=\"created by layer 'embedding_27_input'\"), but it was called on an input with incompatible shape (None, 200).\n",
      "446/446 [==============================] - 3s 6ms/step - loss: 0.4190 - accuracy: 0.8502\n",
      "Epoch 2/10\n",
      "446/446 [==============================] - 3s 6ms/step - loss: 0.1369 - accuracy: 0.9510\n",
      "Epoch 3/10\n",
      "446/446 [==============================] - 3s 6ms/step - loss: 0.0605 - accuracy: 0.9850\n",
      "Epoch 4/10\n",
      "446/446 [==============================] - 3s 7ms/step - loss: 0.0357 - accuracy: 0.9918\n",
      "Epoch 5/10\n",
      "446/446 [==============================] - 3s 7ms/step - loss: 0.0194 - accuracy: 0.9955\n",
      "Epoch 6/10\n",
      "446/446 [==============================] - 3s 7ms/step - loss: 0.0112 - accuracy: 0.9993\n",
      "Epoch 7/10\n",
      "446/446 [==============================] - 3s 7ms/step - loss: 0.0067 - accuracy: 0.9993\n",
      "Epoch 8/10\n",
      "446/446 [==============================] - 3s 7ms/step - loss: 0.0046 - accuracy: 0.9990\n",
      "Epoch 9/10\n",
      "446/446 [==============================] - 3s 7ms/step - loss: 0.0049 - accuracy: 0.9988\n",
      "Epoch 10/10\n",
      "446/446 [==============================] - 3s 7ms/step - loss: 0.0022 - accuracy: 0.9996\n"
     ]
    }
   ],
   "source": [
    "embedding_dim = 128\n",
    "\n",
    "model = Sequential()\n",
    "model.add(layers.Embedding(vocab_size, embedding_dim, input_length=maxlen, trainable=False))\n",
    "model.add(layers.Conv1D(128, 5, activation='relu'))\n",
    "model.add(layers.GlobalMaxPooling1D())\n",
    "model.add(layers.Dense(10, activation='relu'))\n",
    "model.add(layers.Dense(1, activation='sigmoid'))\n",
    "model.compile(optimizer='adam',\n",
    "              loss='binary_crossentropy',\n",
    "              metrics=['accuracy'])\n",
    "\n",
    "# Fit model\n",
    "history = model.fit(train_padded, y_train,\n",
    "                    epochs=10,\n",
    "                    verbose=True,\n",
    "                    batch_size=10)"
   ]
  },
  {
   "cell_type": "code",
   "execution_count": 335,
   "metadata": {
    "pycharm": {
     "is_executing": true
    }
   },
   "outputs": [],
   "source": [
    "validation_sequences = tokenizer.texts_to_sequences(X_test)\n",
    "validation_padded = pad_sequences(validation_sequences, maxlen=max_length, padding=padding_type, truncating=trunc_type)"
   ]
  },
  {
   "cell_type": "code",
   "execution_count": 336,
   "metadata": {
    "pycharm": {
     "is_executing": true
    }
   },
   "outputs": [
    {
     "data": {
      "text/plain": [
       "4629    0\n",
       "2731    1\n",
       "1978    0\n",
       "3336    1\n",
       "2331    1\n",
       "       ..\n",
       "3673    1\n",
       "4977    1\n",
       "3143    1\n",
       "3593    1\n",
       "3169    1\n",
       "Name: category, Length: 4457, dtype: int64"
      ]
     },
     "execution_count": 336,
     "metadata": {},
     "output_type": "execute_result"
    }
   ],
   "source": [
    "y_train\n",
    "    "
   ]
  },
  {
   "cell_type": "code",
   "execution_count": null,
   "metadata": {
    "pycharm": {
     "is_executing": true
    }
   },
   "outputs": [],
   "source": [
    "     "
   ]
  },
  {
   "cell_type": "code",
   "execution_count": 337,
   "metadata": {
    "pycharm": {
     "is_executing": true
    }
   },
   "outputs": [
    {
     "name": "stdout",
     "output_type": "stream",
     "text": [
      "WARNING:tensorflow:Model was constructed with shape (None, 189) for input KerasTensor(type_spec=TensorSpec(shape=(None, 189), dtype=tf.float32, name='embedding_27_input'), name='embedding_27_input', description=\"created by layer 'embedding_27_input'\"), but it was called on an input with incompatible shape (None, 200).\n"
     ]
    }
   ],
   "source": [
    "pred = model.predict(validation_padded)  \n",
    "pred_matrix = construct_pred_matrix(pred)"
   ]
  },
  {
   "cell_type": "code",
   "execution_count": 338,
   "metadata": {
    "pycharm": {
     "is_executing": true
    }
   },
   "outputs": [
    {
     "data": {
      "text/plain": [
       "0.9802690582959641"
      ]
     },
     "execution_count": 338,
     "metadata": {},
     "output_type": "execute_result"
    }
   ],
   "source": [
    "from sklearn import preprocessing, linear_model, naive_bayes, metrics, svm\n",
    "metrics.accuracy_score(pred_matrix, y_test)"
   ]
  },
  {
   "cell_type": "code",
   "execution_count": null,
   "metadata": {
    "pycharm": {
     "is_executing": true
    }
   },
   "outputs": [],
   "source": []
  }
 ],
 "metadata": {
  "kernelspec": {
   "display_name": "Python 3",
   "language": "python",
   "name": "python3"
  },
  "language_info": {
   "codemirror_mode": {
    "name": "ipython",
    "version": 3
   },
   "file_extension": ".py",
   "mimetype": "text/x-python",
   "name": "python",
   "nbconvert_exporter": "python",
   "pygments_lexer": "ipython3",
   "version": "3.7.6"
  }
 },
 "nbformat": 4,
 "nbformat_minor": 4
}
